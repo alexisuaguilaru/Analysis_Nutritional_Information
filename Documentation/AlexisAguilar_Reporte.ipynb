{
 "cells": [
  {
   "cell_type": "markdown",
   "metadata": {},
   "source": [
    "# Introducción"
   ]
  },
  {
   "cell_type": "markdown",
   "metadata": {},
   "source": [
    "En esta libreta de Jupyter se encuentra desglosado en código todo lo realizado y presentado para el trabajo escrito. Se respeta la enumeración que se lleva en el documento escrito."
   ]
  },
  {
   "cell_type": "markdown",
   "metadata": {},
   "source": [
    "# 0. Código "
   ]
  },
  {
   "cell_type": "markdown",
   "metadata": {},
   "source": [
    "Esta sección contiene las diferentes funciones y código que se usará a lo largo del proyecto"
   ]
  },
  {
   "cell_type": "code",
   "execution_count": 1,
   "metadata": {},
   "outputs": [],
   "source": [
    "# Importar librerías\n",
    "\n",
    "import pandas as pd\n",
    "import numpy as np\n",
    "\n",
    "import matplotlib.pyplot as plt\n",
    "import seaborn as sns"
   ]
  },
  {
   "cell_type": "markdown",
   "metadata": {},
   "source": [
    "## Carga de Datos"
   ]
  },
  {
   "cell_type": "code",
   "execution_count": null,
   "metadata": {},
   "outputs": [],
   "source": [
    "# Carga de datos\n",
    "\n",
    "Diets_Dataset = pd.read_csv('./Diets_Dataset.csv')\n",
    "Diets_Dataset.drop(columns=['Extraction_day','Extraction_time'],inplace=True)"
   ]
  },
  {
   "cell_type": "code",
   "execution_count": 3,
   "metadata": {},
   "outputs": [],
   "source": [
    "# Definición de variables principales\n",
    "\n",
    "Macronutrients = ['Carbs(g)','Protein(g)','Fat(g)']\n",
    "Diets = ['dash', 'keto', 'mediterranean', 'paleo', 'vegan']"
   ]
  },
  {
   "cell_type": "markdown",
   "metadata": {},
   "source": [
    "# 1. Presentación de los Datos"
   ]
  },
  {
   "cell_type": "markdown",
   "metadata": {},
   "source": [
    "## 1.3 Variables del Conjunto de Datos"
   ]
  },
  {
   "cell_type": "code",
   "execution_count": null,
   "metadata": {},
   "outputs": [
    {
     "data": {
      "text/html": [
       "<div>\n",
       "<style scoped>\n",
       "    .dataframe tbody tr th:only-of-type {\n",
       "        vertical-align: middle;\n",
       "    }\n",
       "\n",
       "    .dataframe tbody tr th {\n",
       "        vertical-align: top;\n",
       "    }\n",
       "\n",
       "    .dataframe thead th {\n",
       "        text-align: right;\n",
       "    }\n",
       "</style>\n",
       "<table border=\"1\" class=\"dataframe\">\n",
       "  <thead>\n",
       "    <tr style=\"text-align: right;\">\n",
       "      <th></th>\n",
       "      <th>Diet_type</th>\n",
       "      <th>Recipe_name</th>\n",
       "      <th>Cuisine_type</th>\n",
       "      <th>Protein(g)</th>\n",
       "      <th>Carbs(g)</th>\n",
       "      <th>Fat(g)</th>\n",
       "    </tr>\n",
       "  </thead>\n",
       "  <tbody>\n",
       "    <tr>\n",
       "      <th>0</th>\n",
       "      <td>paleo</td>\n",
       "      <td>Bone Broth From 'Nom Nom Paleo'</td>\n",
       "      <td>american</td>\n",
       "      <td>5.22</td>\n",
       "      <td>1.29</td>\n",
       "      <td>3.20</td>\n",
       "    </tr>\n",
       "    <tr>\n",
       "      <th>1</th>\n",
       "      <td>paleo</td>\n",
       "      <td>Paleo Effect Asian-Glazed Pork Sides, A Sweet ...</td>\n",
       "      <td>south east asian</td>\n",
       "      <td>181.55</td>\n",
       "      <td>28.62</td>\n",
       "      <td>146.14</td>\n",
       "    </tr>\n",
       "    <tr>\n",
       "      <th>2</th>\n",
       "      <td>paleo</td>\n",
       "      <td>Paleo Pumpkin Pie</td>\n",
       "      <td>american</td>\n",
       "      <td>30.91</td>\n",
       "      <td>302.59</td>\n",
       "      <td>96.76</td>\n",
       "    </tr>\n",
       "    <tr>\n",
       "      <th>3</th>\n",
       "      <td>paleo</td>\n",
       "      <td>Strawberry Guacamole recipes</td>\n",
       "      <td>mexican</td>\n",
       "      <td>9.62</td>\n",
       "      <td>75.78</td>\n",
       "      <td>59.89</td>\n",
       "    </tr>\n",
       "    <tr>\n",
       "      <th>4</th>\n",
       "      <td>paleo</td>\n",
       "      <td>Asian Cauliflower Fried \"Rice\" From 'Nom Nom P...</td>\n",
       "      <td>chinese</td>\n",
       "      <td>39.84</td>\n",
       "      <td>54.08</td>\n",
       "      <td>71.55</td>\n",
       "    </tr>\n",
       "    <tr>\n",
       "      <th>...</th>\n",
       "      <td>...</td>\n",
       "      <td>...</td>\n",
       "      <td>...</td>\n",
       "      <td>...</td>\n",
       "      <td>...</td>\n",
       "      <td>...</td>\n",
       "    </tr>\n",
       "    <tr>\n",
       "      <th>7801</th>\n",
       "      <td>dash</td>\n",
       "      <td>Brown Butter-Sunchoke Soup With Brussels Sprou...</td>\n",
       "      <td>italian</td>\n",
       "      <td>85.20</td>\n",
       "      <td>288.14</td>\n",
       "      <td>137.15</td>\n",
       "    </tr>\n",
       "    <tr>\n",
       "      <th>7802</th>\n",
       "      <td>dash</td>\n",
       "      <td>Make-Your-Own-Salad</td>\n",
       "      <td>american</td>\n",
       "      <td>141.98</td>\n",
       "      <td>123.18</td>\n",
       "      <td>323.50</td>\n",
       "    </tr>\n",
       "    <tr>\n",
       "      <th>7803</th>\n",
       "      <td>dash</td>\n",
       "      <td>Luis Buñuel Dry Martini</td>\n",
       "      <td>world</td>\n",
       "      <td>0.01</td>\n",
       "      <td>0.39</td>\n",
       "      <td>0.00</td>\n",
       "    </tr>\n",
       "    <tr>\n",
       "      <th>7804</th>\n",
       "      <td>dash</td>\n",
       "      <td>Cornflake Semi-Fried Chicken Tenders</td>\n",
       "      <td>american</td>\n",
       "      <td>155.38</td>\n",
       "      <td>239.88</td>\n",
       "      <td>260.84</td>\n",
       "    </tr>\n",
       "    <tr>\n",
       "      <th>7805</th>\n",
       "      <td>dash</td>\n",
       "      <td>Emeril's Classic Manhattan</td>\n",
       "      <td>american</td>\n",
       "      <td>0.02</td>\n",
       "      <td>0.83</td>\n",
       "      <td>0.00</td>\n",
       "    </tr>\n",
       "  </tbody>\n",
       "</table>\n",
       "<p>7806 rows × 6 columns</p>\n",
       "</div>"
      ],
      "text/plain": [
       "     Diet_type                                        Recipe_name  \\\n",
       "0        paleo                    Bone Broth From 'Nom Nom Paleo'   \n",
       "1        paleo  Paleo Effect Asian-Glazed Pork Sides, A Sweet ...   \n",
       "2        paleo                                  Paleo Pumpkin Pie   \n",
       "3        paleo                       Strawberry Guacamole recipes   \n",
       "4        paleo  Asian Cauliflower Fried \"Rice\" From 'Nom Nom P...   \n",
       "...        ...                                                ...   \n",
       "7801      dash  Brown Butter-Sunchoke Soup With Brussels Sprou...   \n",
       "7802      dash                                Make-Your-Own-Salad   \n",
       "7803      dash                            Luis Buñuel Dry Martini   \n",
       "7804      dash               Cornflake Semi-Fried Chicken Tenders   \n",
       "7805      dash                         Emeril's Classic Manhattan   \n",
       "\n",
       "          Cuisine_type  Protein(g)  Carbs(g)  Fat(g)  \n",
       "0             american        5.22      1.29    3.20  \n",
       "1     south east asian      181.55     28.62  146.14  \n",
       "2             american       30.91    302.59   96.76  \n",
       "3              mexican        9.62     75.78   59.89  \n",
       "4              chinese       39.84     54.08   71.55  \n",
       "...                ...         ...       ...     ...  \n",
       "7801           italian       85.20    288.14  137.15  \n",
       "7802          american      141.98    123.18  323.50  \n",
       "7803             world        0.01      0.39    0.00  \n",
       "7804          american      155.38    239.88  260.84  \n",
       "7805          american        0.02      0.83    0.00  \n",
       "\n",
       "[7806 rows x 6 columns]"
      ]
     },
     "execution_count": 6,
     "metadata": {},
     "output_type": "execute_result"
    }
   ],
   "source": [
    "# Ejemplos de registros del conjunto de datos\n",
    "\n",
    "Diets_Dataset"
   ]
  },
  {
   "cell_type": "code",
   "execution_count": 7,
   "metadata": {},
   "outputs": [
    {
     "data": {
      "text/plain": [
       "Diet_type          5\n",
       "Recipe_name     7062\n",
       "Cuisine_type      19\n",
       "Protein(g)      6060\n",
       "Carbs(g)        6618\n",
       "Fat(g)          6322\n",
       "dtype: int64"
      ]
     },
     "execution_count": 7,
     "metadata": {},
     "output_type": "execute_result"
    }
   ],
   "source": [
    "# Valore únicos por variable en el conjunto de datos\n",
    "\n",
    "Diets_Dataset.apply(lambda column: len(pd.Series.unique(column)),axis=0)"
   ]
  },
  {
   "cell_type": "markdown",
   "metadata": {},
   "source": [
    "# 2. Estadística Descriptiva"
   ]
  },
  {
   "cell_type": "markdown",
   "metadata": {},
   "source": [
    "## 2.0 Transformación de los Macronutrientes a Valores Proporcionales "
   ]
  },
  {
   "cell_type": "markdown",
   "metadata": {},
   "source": [
    "Como se mencionó en el documento escrito, de cada receta, los valores de sus aportes nutricionales son normalizados usando el total de macronutrientes que aporta cada receta."
   ]
  },
  {
   "cell_type": "code",
   "execution_count": 8,
   "metadata": {},
   "outputs": [],
   "source": [
    "# Total de macronutrientes por receta\n",
    "\n",
    "Diets_Dataset['Total_Macronutrients'] = Diets_Dataset[Macronutrients].apply(sum,axis=1)"
   ]
  },
  {
   "cell_type": "code",
   "execution_count": 16,
   "metadata": {},
   "outputs": [],
   "source": [
    "# Normalización de cada valor de macronutriente\n",
    "\n",
    "for macronutrient in Macronutrients:\n",
    "    Diets_Dataset[macronutrient] /= Diets_Dataset['Total_Macronutrients']"
   ]
  }
 ],
 "metadata": {
  "kernelspec": {
   "display_name": "Python 3",
   "language": "python",
   "name": "python3"
  },
  "language_info": {
   "codemirror_mode": {
    "name": "ipython",
    "version": 3
   },
   "file_extension": ".py",
   "mimetype": "text/x-python",
   "name": "python",
   "nbconvert_exporter": "python",
   "pygments_lexer": "ipython3",
   "version": "3.12.5"
  }
 },
 "nbformat": 4,
 "nbformat_minor": 2
}
