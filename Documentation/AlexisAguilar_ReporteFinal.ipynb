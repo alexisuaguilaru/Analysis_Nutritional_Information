{
 "cells": [
  {
   "cell_type": "markdown",
   "id": "fd7acb76",
   "metadata": {},
   "source": [
    "# 0. Carga del Dataset y Otro Código"
   ]
  },
  {
   "cell_type": "markdown",
   "id": "b12657d1",
   "metadata": {},
   "source": [
    "## 0.1 Importar Librerías y Funciones"
   ]
  },
  {
   "cell_type": "code",
   "execution_count": 1,
   "id": "cf8700fe",
   "metadata": {},
   "outputs": [],
   "source": [
    "# Importar librerías\n",
    "\n",
    "import pandas as pd\n",
    "import numpy as np\n",
    "\n",
    "import matplotlib.pyplot as plt\n",
    "import seaborn as sns"
   ]
  },
  {
   "cell_type": "code",
   "execution_count": null,
   "id": "41fb1308",
   "metadata": {},
   "outputs": [],
   "source": [
    "# Definiendo variables y constantes\n",
    "\n",
    "Color_Palette = ['green','red','gold']\n",
    "Color_Map = 'seismic'\n",
    "\n",
    "Macronutrients = ['Carbs','Protein','Fat']\n",
    "Diets = ['dash', 'keto', 'mediterranean', 'paleo', 'vegan']\n",
    "Cuisine = 'Cuisine_type'\n",
    "Diet = 'Diet_type'\n",
    "Total = 'Total_Macronutrients'\n",
    "\n",
    "MapTranslate = {\n",
    "    'Carbs' : 'Carbohidratos',\n",
    "    'Protein' : 'Proteínas',\n",
    "    'Fat' : 'Grasas',\n",
    "}\n",
    "InverseMacronutrient = {\n",
    "    'Carbs' : 0,\n",
    "    'Protein' : 1,\n",
    "    'Fat' : 2,\n",
    "}\n",
    "\n",
    "RANDOM_STATE = 8013"
   ]
  },
  {
   "cell_type": "markdown",
   "id": "799e3e6b",
   "metadata": {},
   "source": [
    "## 0.2 Carga de Datos"
   ]
  },
  {
   "cell_type": "code",
   "execution_count": 2,
   "id": "c995fd57",
   "metadata": {},
   "outputs": [],
   "source": [
    "# Carga de datos\n",
    "\n",
    "macronutrients = ['Carbs(g)','Protein(g)','Fat(g)']\n",
    "\n",
    "Diets_Dataset = pd.read_csv('../Datasets/Diets_Dataset.csv')\n",
    "Diets_Dataset.drop(columns=['Extraction_day','Extraction_time'],inplace=True)\n",
    "Diets_Dataset.rename(columns={macronutrient : macronutrient[:-3] for macronutrient in macronutrients},inplace=True)"
   ]
  },
  {
   "cell_type": "markdown",
   "id": "3b01a046",
   "metadata": {},
   "source": [
    "# 4. Presentación de los Datos"
   ]
  },
  {
   "cell_type": "code",
   "execution_count": 4,
   "id": "0c4e56a1",
   "metadata": {},
   "outputs": [
    {
     "data": {
      "text/html": [
       "<div>\n",
       "<style scoped>\n",
       "    .dataframe tbody tr th:only-of-type {\n",
       "        vertical-align: middle;\n",
       "    }\n",
       "\n",
       "    .dataframe tbody tr th {\n",
       "        vertical-align: top;\n",
       "    }\n",
       "\n",
       "    .dataframe thead th {\n",
       "        text-align: right;\n",
       "    }\n",
       "</style>\n",
       "<table border=\"1\" class=\"dataframe\">\n",
       "  <thead>\n",
       "    <tr style=\"text-align: right;\">\n",
       "      <th></th>\n",
       "      <th>Diet_type</th>\n",
       "      <th>Recipe_name</th>\n",
       "      <th>Cuisine_type</th>\n",
       "      <th>Protein</th>\n",
       "      <th>Carbs</th>\n",
       "      <th>Fat</th>\n",
       "    </tr>\n",
       "  </thead>\n",
       "  <tbody>\n",
       "    <tr>\n",
       "      <th>0</th>\n",
       "      <td>paleo</td>\n",
       "      <td>Bone Broth From 'Nom Nom Paleo'</td>\n",
       "      <td>american</td>\n",
       "      <td>5.22</td>\n",
       "      <td>1.29</td>\n",
       "      <td>3.20</td>\n",
       "    </tr>\n",
       "    <tr>\n",
       "      <th>1</th>\n",
       "      <td>paleo</td>\n",
       "      <td>Paleo Effect Asian-Glazed Pork Sides, A Sweet ...</td>\n",
       "      <td>south east asian</td>\n",
       "      <td>181.55</td>\n",
       "      <td>28.62</td>\n",
       "      <td>146.14</td>\n",
       "    </tr>\n",
       "    <tr>\n",
       "      <th>2</th>\n",
       "      <td>paleo</td>\n",
       "      <td>Paleo Pumpkin Pie</td>\n",
       "      <td>american</td>\n",
       "      <td>30.91</td>\n",
       "      <td>302.59</td>\n",
       "      <td>96.76</td>\n",
       "    </tr>\n",
       "    <tr>\n",
       "      <th>3</th>\n",
       "      <td>paleo</td>\n",
       "      <td>Strawberry Guacamole recipes</td>\n",
       "      <td>mexican</td>\n",
       "      <td>9.62</td>\n",
       "      <td>75.78</td>\n",
       "      <td>59.89</td>\n",
       "    </tr>\n",
       "    <tr>\n",
       "      <th>4</th>\n",
       "      <td>paleo</td>\n",
       "      <td>Asian Cauliflower Fried \"Rice\" From 'Nom Nom P...</td>\n",
       "      <td>chinese</td>\n",
       "      <td>39.84</td>\n",
       "      <td>54.08</td>\n",
       "      <td>71.55</td>\n",
       "    </tr>\n",
       "    <tr>\n",
       "      <th>...</th>\n",
       "      <td>...</td>\n",
       "      <td>...</td>\n",
       "      <td>...</td>\n",
       "      <td>...</td>\n",
       "      <td>...</td>\n",
       "      <td>...</td>\n",
       "    </tr>\n",
       "    <tr>\n",
       "      <th>7801</th>\n",
       "      <td>dash</td>\n",
       "      <td>Brown Butter-Sunchoke Soup With Brussels Sprou...</td>\n",
       "      <td>italian</td>\n",
       "      <td>85.20</td>\n",
       "      <td>288.14</td>\n",
       "      <td>137.15</td>\n",
       "    </tr>\n",
       "    <tr>\n",
       "      <th>7802</th>\n",
       "      <td>dash</td>\n",
       "      <td>Make-Your-Own-Salad</td>\n",
       "      <td>american</td>\n",
       "      <td>141.98</td>\n",
       "      <td>123.18</td>\n",
       "      <td>323.50</td>\n",
       "    </tr>\n",
       "    <tr>\n",
       "      <th>7803</th>\n",
       "      <td>dash</td>\n",
       "      <td>Luis Buñuel Dry Martini</td>\n",
       "      <td>world</td>\n",
       "      <td>0.01</td>\n",
       "      <td>0.39</td>\n",
       "      <td>0.00</td>\n",
       "    </tr>\n",
       "    <tr>\n",
       "      <th>7804</th>\n",
       "      <td>dash</td>\n",
       "      <td>Cornflake Semi-Fried Chicken Tenders</td>\n",
       "      <td>american</td>\n",
       "      <td>155.38</td>\n",
       "      <td>239.88</td>\n",
       "      <td>260.84</td>\n",
       "    </tr>\n",
       "    <tr>\n",
       "      <th>7805</th>\n",
       "      <td>dash</td>\n",
       "      <td>Emeril's Classic Manhattan</td>\n",
       "      <td>american</td>\n",
       "      <td>0.02</td>\n",
       "      <td>0.83</td>\n",
       "      <td>0.00</td>\n",
       "    </tr>\n",
       "  </tbody>\n",
       "</table>\n",
       "<p>7806 rows × 6 columns</p>\n",
       "</div>"
      ],
      "text/plain": [
       "     Diet_type                                        Recipe_name  \\\n",
       "0        paleo                    Bone Broth From 'Nom Nom Paleo'   \n",
       "1        paleo  Paleo Effect Asian-Glazed Pork Sides, A Sweet ...   \n",
       "2        paleo                                  Paleo Pumpkin Pie   \n",
       "3        paleo                       Strawberry Guacamole recipes   \n",
       "4        paleo  Asian Cauliflower Fried \"Rice\" From 'Nom Nom P...   \n",
       "...        ...                                                ...   \n",
       "7801      dash  Brown Butter-Sunchoke Soup With Brussels Sprou...   \n",
       "7802      dash                                Make-Your-Own-Salad   \n",
       "7803      dash                            Luis Buñuel Dry Martini   \n",
       "7804      dash               Cornflake Semi-Fried Chicken Tenders   \n",
       "7805      dash                         Emeril's Classic Manhattan   \n",
       "\n",
       "          Cuisine_type  Protein   Carbs     Fat  \n",
       "0             american     5.22    1.29    3.20  \n",
       "1     south east asian   181.55   28.62  146.14  \n",
       "2             american    30.91  302.59   96.76  \n",
       "3              mexican     9.62   75.78   59.89  \n",
       "4              chinese    39.84   54.08   71.55  \n",
       "...                ...      ...     ...     ...  \n",
       "7801           italian    85.20  288.14  137.15  \n",
       "7802          american   141.98  123.18  323.50  \n",
       "7803             world     0.01    0.39    0.00  \n",
       "7804          american   155.38  239.88  260.84  \n",
       "7805          american     0.02    0.83    0.00  \n",
       "\n",
       "[7806 rows x 6 columns]"
      ]
     },
     "execution_count": 4,
     "metadata": {},
     "output_type": "execute_result"
    }
   ],
   "source": [
    "# Ejemplos de registros del conjunto de datos\n",
    "\n",
    "Diets_Dataset"
   ]
  },
  {
   "cell_type": "code",
   "execution_count": 9,
   "id": "5dc80d97",
   "metadata": {},
   "outputs": [
    {
     "data": {
      "text/plain": [
       "Diet_type          5\n",
       "Recipe_name     7062\n",
       "Cuisine_type      19\n",
       "Protein         6060\n",
       "Carbs           6618\n",
       "Fat             6322\n",
       "dtype: int64"
      ]
     },
     "execution_count": 9,
     "metadata": {},
     "output_type": "execute_result"
    }
   ],
   "source": [
    "# Valore únicos por variable en el conjunto de datos\n",
    "\n",
    "Diets_Dataset.apply(lambda column: column.unique().shape[0],axis=0)"
   ]
  },
  {
   "cell_type": "markdown",
   "id": "ba662426",
   "metadata": {},
   "source": [
    "# 5. Estadística Descriptiva"
   ]
  },
  {
   "cell_type": "markdown",
   "id": "40e55c1b",
   "metadata": {},
   "source": [
    "# 6. Análisis Bivariado"
   ]
  },
  {
   "cell_type": "markdown",
   "id": "37af15bf",
   "metadata": {},
   "source": [
    "# 7. Muestreo e Intervalos de Confianza"
   ]
  },
  {
   "cell_type": "markdown",
   "id": "36bbf3a1",
   "metadata": {},
   "source": [
    "# 8. Pruebas de Hipótesis"
   ]
  }
 ],
 "metadata": {
  "kernelspec": {
   "display_name": "Python 3",
   "language": "python",
   "name": "python3"
  },
  "language_info": {
   "codemirror_mode": {
    "name": "ipython",
    "version": 3
   },
   "file_extension": ".py",
   "mimetype": "text/x-python",
   "name": "python",
   "nbconvert_exporter": "python",
   "pygments_lexer": "ipython3",
   "version": "3.12.5"
  }
 },
 "nbformat": 4,
 "nbformat_minor": 5
}
