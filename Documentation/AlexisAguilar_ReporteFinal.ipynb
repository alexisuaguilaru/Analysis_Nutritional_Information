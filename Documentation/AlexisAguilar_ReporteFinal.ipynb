{
 "cells": [
  {
   "cell_type": "markdown",
   "id": "fd7acb76",
   "metadata": {},
   "source": [
    "# 0. Carga del Dataset y Otro Código"
   ]
  },
  {
   "cell_type": "markdown",
   "id": "ba662426",
   "metadata": {},
   "source": [
    "# 1. Estadística Descriptiva"
   ]
  },
  {
   "cell_type": "markdown",
   "id": "40e55c1b",
   "metadata": {},
   "source": [
    "# 2. Análisis Bivariado"
   ]
  },
  {
   "cell_type": "markdown",
   "id": "37af15bf",
   "metadata": {},
   "source": [
    "# 3. Muestreo e Intervalos de Confianza"
   ]
  },
  {
   "cell_type": "markdown",
   "id": "36bbf3a1",
   "metadata": {},
   "source": [
    "# 4. Pruebas de Hipótesis"
   ]
  }
 ],
 "metadata": {
  "kernelspec": {
   "display_name": "Python 3",
   "language": "python",
   "name": "python3"
  },
  "language_info": {
   "name": "python",
   "version": "3.12.5"
  }
 },
 "nbformat": 4,
 "nbformat_minor": 5
}
