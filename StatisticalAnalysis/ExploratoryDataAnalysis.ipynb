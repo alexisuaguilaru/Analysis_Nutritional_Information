{
 "cells": [
  {
   "cell_type": "markdown",
   "metadata": {},
   "source": [
    "# Import Libraries "
   ]
  },
  {
   "cell_type": "code",
   "execution_count": 1,
   "metadata": {},
   "outputs": [],
   "source": [
    "# Importing required libraries\n",
    "\n",
    "import pandas as pd\n",
    "\n",
    "import matplotlib.pyplot as plt\n",
    "import seaborn as sns\n",
    "from ipywidgets import interact"
   ]
  },
  {
   "cell_type": "markdown",
   "metadata": {},
   "source": [
    "# Loading of Dataset"
   ]
  },
  {
   "cell_type": "code",
   "execution_count": 2,
   "metadata": {},
   "outputs": [],
   "source": [
    "# Loading dataset and drop unneeded labels\n",
    "\n",
    "Diets_Dataset = pd.read_csv('./Diets_Dataset.csv')\n",
    "Diets_Dataset.drop(columns=['Extraction_day','Extraction_time'],inplace=True)"
   ]
  },
  {
   "cell_type": "code",
   "execution_count": 3,
   "metadata": {},
   "outputs": [
    {
     "data": {
      "text/html": [
       "<div>\n",
       "<style scoped>\n",
       "    .dataframe tbody tr th:only-of-type {\n",
       "        vertical-align: middle;\n",
       "    }\n",
       "\n",
       "    .dataframe tbody tr th {\n",
       "        vertical-align: top;\n",
       "    }\n",
       "\n",
       "    .dataframe thead th {\n",
       "        text-align: right;\n",
       "    }\n",
       "</style>\n",
       "<table border=\"1\" class=\"dataframe\">\n",
       "  <thead>\n",
       "    <tr style=\"text-align: right;\">\n",
       "      <th></th>\n",
       "      <th>Diet_type</th>\n",
       "      <th>Recipe_name</th>\n",
       "      <th>Cuisine_type</th>\n",
       "      <th>Protein(g)</th>\n",
       "      <th>Carbs(g)</th>\n",
       "      <th>Fat(g)</th>\n",
       "    </tr>\n",
       "  </thead>\n",
       "  <tbody>\n",
       "    <tr>\n",
       "      <th>0</th>\n",
       "      <td>paleo</td>\n",
       "      <td>Bone Broth From 'Nom Nom Paleo'</td>\n",
       "      <td>american</td>\n",
       "      <td>5.22</td>\n",
       "      <td>1.29</td>\n",
       "      <td>3.20</td>\n",
       "    </tr>\n",
       "    <tr>\n",
       "      <th>1</th>\n",
       "      <td>paleo</td>\n",
       "      <td>Paleo Effect Asian-Glazed Pork Sides, A Sweet ...</td>\n",
       "      <td>south east asian</td>\n",
       "      <td>181.55</td>\n",
       "      <td>28.62</td>\n",
       "      <td>146.14</td>\n",
       "    </tr>\n",
       "    <tr>\n",
       "      <th>2</th>\n",
       "      <td>paleo</td>\n",
       "      <td>Paleo Pumpkin Pie</td>\n",
       "      <td>american</td>\n",
       "      <td>30.91</td>\n",
       "      <td>302.59</td>\n",
       "      <td>96.76</td>\n",
       "    </tr>\n",
       "    <tr>\n",
       "      <th>3</th>\n",
       "      <td>paleo</td>\n",
       "      <td>Strawberry Guacamole recipes</td>\n",
       "      <td>mexican</td>\n",
       "      <td>9.62</td>\n",
       "      <td>75.78</td>\n",
       "      <td>59.89</td>\n",
       "    </tr>\n",
       "    <tr>\n",
       "      <th>4</th>\n",
       "      <td>paleo</td>\n",
       "      <td>Asian Cauliflower Fried \"Rice\" From 'Nom Nom P...</td>\n",
       "      <td>chinese</td>\n",
       "      <td>39.84</td>\n",
       "      <td>54.08</td>\n",
       "      <td>71.55</td>\n",
       "    </tr>\n",
       "    <tr>\n",
       "      <th>5</th>\n",
       "      <td>paleo</td>\n",
       "      <td>Paleo Shrimp-Stuffed Mushrooms recipes</td>\n",
       "      <td>mediterranean</td>\n",
       "      <td>68.62</td>\n",
       "      <td>34.15</td>\n",
       "      <td>42.44</td>\n",
       "    </tr>\n",
       "    <tr>\n",
       "      <th>6</th>\n",
       "      <td>paleo</td>\n",
       "      <td>Paleo Pumpkin Pie recipes</td>\n",
       "      <td>american</td>\n",
       "      <td>30.03</td>\n",
       "      <td>275.88</td>\n",
       "      <td>97.68</td>\n",
       "    </tr>\n",
       "    <tr>\n",
       "      <th>7</th>\n",
       "      <td>paleo</td>\n",
       "      <td>Autoimmune Paleo Pesto</td>\n",
       "      <td>italian</td>\n",
       "      <td>4.25</td>\n",
       "      <td>14.15</td>\n",
       "      <td>72.90</td>\n",
       "    </tr>\n",
       "    <tr>\n",
       "      <th>8</th>\n",
       "      <td>paleo</td>\n",
       "      <td>Baked Banana Chip Encrusted French Toast</td>\n",
       "      <td>french</td>\n",
       "      <td>152.88</td>\n",
       "      <td>1874.52</td>\n",
       "      <td>385.80</td>\n",
       "    </tr>\n",
       "    <tr>\n",
       "      <th>9</th>\n",
       "      <td>paleo</td>\n",
       "      <td>Vietnamese Pho Pressure Cooker (Noodle Soup)</td>\n",
       "      <td>south east asian</td>\n",
       "      <td>602.91</td>\n",
       "      <td>274.87</td>\n",
       "      <td>400.01</td>\n",
       "    </tr>\n",
       "    <tr>\n",
       "      <th>10</th>\n",
       "      <td>paleo</td>\n",
       "      <td>Paleo Collard Burrito</td>\n",
       "      <td>mexican</td>\n",
       "      <td>44.62</td>\n",
       "      <td>28.66</td>\n",
       "      <td>78.46</td>\n",
       "    </tr>\n",
       "    <tr>\n",
       "      <th>11</th>\n",
       "      <td>paleo</td>\n",
       "      <td>Paleo Chawanmushi (Savory Egg Custard) recipes</td>\n",
       "      <td>american</td>\n",
       "      <td>61.43</td>\n",
       "      <td>13.29</td>\n",
       "      <td>24.60</td>\n",
       "    </tr>\n",
       "    <tr>\n",
       "      <th>12</th>\n",
       "      <td>paleo</td>\n",
       "      <td>‘paleo' banana bread</td>\n",
       "      <td>american</td>\n",
       "      <td>46.69</td>\n",
       "      <td>192.54</td>\n",
       "      <td>156.48</td>\n",
       "    </tr>\n",
       "    <tr>\n",
       "      <th>13</th>\n",
       "      <td>paleo</td>\n",
       "      <td>Leftover Turkey Sandwich recipes</td>\n",
       "      <td>american</td>\n",
       "      <td>54.09</td>\n",
       "      <td>34.97</td>\n",
       "      <td>14.10</td>\n",
       "    </tr>\n",
       "    <tr>\n",
       "      <th>14</th>\n",
       "      <td>paleo</td>\n",
       "      <td>Paleo Pumpkin Waffles</td>\n",
       "      <td>american</td>\n",
       "      <td>51.24</td>\n",
       "      <td>89.63</td>\n",
       "      <td>78.38</td>\n",
       "    </tr>\n",
       "    <tr>\n",
       "      <th>15</th>\n",
       "      <td>paleo</td>\n",
       "      <td>Fudgy Paleo Brownies</td>\n",
       "      <td>french</td>\n",
       "      <td>64.29</td>\n",
       "      <td>263.65</td>\n",
       "      <td>176.36</td>\n",
       "    </tr>\n",
       "    <tr>\n",
       "      <th>16</th>\n",
       "      <td>paleo</td>\n",
       "      <td>Magic Wings recipes</td>\n",
       "      <td>american</td>\n",
       "      <td>320.76</td>\n",
       "      <td>28.36</td>\n",
       "      <td>252.82</td>\n",
       "    </tr>\n",
       "    <tr>\n",
       "      <th>17</th>\n",
       "      <td>paleo</td>\n",
       "      <td>Turkey Club Sandwich</td>\n",
       "      <td>american</td>\n",
       "      <td>46.92</td>\n",
       "      <td>39.94</td>\n",
       "      <td>19.60</td>\n",
       "    </tr>\n",
       "    <tr>\n",
       "      <th>18</th>\n",
       "      <td>paleo</td>\n",
       "      <td>Easy Paleo Meatloaf</td>\n",
       "      <td>american</td>\n",
       "      <td>185.99</td>\n",
       "      <td>47.82</td>\n",
       "      <td>260.64</td>\n",
       "    </tr>\n",
       "    <tr>\n",
       "      <th>19</th>\n",
       "      <td>paleo</td>\n",
       "      <td>Paleo Crepes</td>\n",
       "      <td>french</td>\n",
       "      <td>15.73</td>\n",
       "      <td>15.91</td>\n",
       "      <td>49.16</td>\n",
       "    </tr>\n",
       "  </tbody>\n",
       "</table>\n",
       "</div>"
      ],
      "text/plain": [
       "   Diet_type                                        Recipe_name  \\\n",
       "0      paleo                    Bone Broth From 'Nom Nom Paleo'   \n",
       "1      paleo  Paleo Effect Asian-Glazed Pork Sides, A Sweet ...   \n",
       "2      paleo                                  Paleo Pumpkin Pie   \n",
       "3      paleo                       Strawberry Guacamole recipes   \n",
       "4      paleo  Asian Cauliflower Fried \"Rice\" From 'Nom Nom P...   \n",
       "5      paleo             Paleo Shrimp-Stuffed Mushrooms recipes   \n",
       "6      paleo                          Paleo Pumpkin Pie recipes   \n",
       "7      paleo                             Autoimmune Paleo Pesto   \n",
       "8      paleo           Baked Banana Chip Encrusted French Toast   \n",
       "9      paleo       Vietnamese Pho Pressure Cooker (Noodle Soup)   \n",
       "10     paleo                              Paleo Collard Burrito   \n",
       "11     paleo     Paleo Chawanmushi (Savory Egg Custard) recipes   \n",
       "12     paleo                               ‘paleo' banana bread   \n",
       "13     paleo                   Leftover Turkey Sandwich recipes   \n",
       "14     paleo                              Paleo Pumpkin Waffles   \n",
       "15     paleo                               Fudgy Paleo Brownies   \n",
       "16     paleo                                Magic Wings recipes   \n",
       "17     paleo                               Turkey Club Sandwich   \n",
       "18     paleo                                Easy Paleo Meatloaf   \n",
       "19     paleo                                       Paleo Crepes   \n",
       "\n",
       "        Cuisine_type  Protein(g)  Carbs(g)  Fat(g)  \n",
       "0           american        5.22      1.29    3.20  \n",
       "1   south east asian      181.55     28.62  146.14  \n",
       "2           american       30.91    302.59   96.76  \n",
       "3            mexican        9.62     75.78   59.89  \n",
       "4            chinese       39.84     54.08   71.55  \n",
       "5      mediterranean       68.62     34.15   42.44  \n",
       "6           american       30.03    275.88   97.68  \n",
       "7            italian        4.25     14.15   72.90  \n",
       "8             french      152.88   1874.52  385.80  \n",
       "9   south east asian      602.91    274.87  400.01  \n",
       "10           mexican       44.62     28.66   78.46  \n",
       "11          american       61.43     13.29   24.60  \n",
       "12          american       46.69    192.54  156.48  \n",
       "13          american       54.09     34.97   14.10  \n",
       "14          american       51.24     89.63   78.38  \n",
       "15            french       64.29    263.65  176.36  \n",
       "16          american      320.76     28.36  252.82  \n",
       "17          american       46.92     39.94   19.60  \n",
       "18          american      185.99     47.82  260.64  \n",
       "19            french       15.73     15.91   49.16  "
      ]
     },
     "execution_count": 3,
     "metadata": {},
     "output_type": "execute_result"
    }
   ],
   "source": [
    "# Example of records\n",
    "\n",
    "Diets_Dataset.head(20)"
   ]
  },
  {
   "cell_type": "code",
   "execution_count": 4,
   "metadata": {},
   "outputs": [],
   "source": [
    "# Naming main variables\n",
    "\n",
    "Macronutrients = ['Carbs(g)','Protein(g)','Fat(g)']\n",
    "Diets = ['dash', 'keto', 'mediterranean', 'paleo', 'vegan']"
   ]
  },
  {
   "cell_type": "markdown",
   "metadata": {},
   "source": [
    "# Transformation of Macronutrient Values"
   ]
  },
  {
   "cell_type": "markdown",
   "metadata": {},
   "source": [
    "For comparing the nutritional values (macronutrients) between the different types of diets, each macronutrient value was rescaled to its proportional contribution from the total macronutrients in each recipe.\n",
    "\n",
    "This transformation will make it possible to analyze and compare the presence of each macronutrient in the different diets."
   ]
  },
  {
   "cell_type": "code",
   "execution_count": 5,
   "metadata": {},
   "outputs": [],
   "source": [
    "# Creating labels for total macronutrients supply\n",
    "\n",
    "Diets_Dataset['Total_Macronutrients'] = Diets_Dataset[Macronutrients].apply(sum,axis=1)"
   ]
  },
  {
   "cell_type": "code",
   "execution_count": 6,
   "metadata": {},
   "outputs": [],
   "source": [
    "# Transforming each macronutrient value into its proportional contribution\n",
    "\n",
    "for macronutrient in Macronutrients:\n",
    "    Diets_Dataset[macronutrient] /= Diets_Dataset['Total_Macronutrients']"
   ]
  },
  {
   "cell_type": "markdown",
   "metadata": {},
   "source": [
    "# Plotting of Macronutrients by Type of Diet"
   ]
  },
  {
   "cell_type": "markdown",
   "metadata": {},
   "source": [
    "Including outliers, these plots show what the macronutrient distributions are like by diet type. Showing that each diet has different distributions.\n",
    "\n",
    "Also, a high concentration of outliers can be observed, so it is necessary to treat them to obtain more meaningful results."
   ]
  },
  {
   "cell_type": "markdown",
   "metadata": {},
   "source": [
    "## Plotting Functions"
   ]
  },
  {
   "cell_type": "code",
   "execution_count": 17,
   "metadata": {},
   "outputs": [],
   "source": [
    "# Function for creating an interactive plot of macronutrients by diet\n",
    "\n",
    "def InteractivePlotMacronutientsByDiet(Diet:str):\n",
    "    diet_type_dataset = Diets_Dataset.query(\"Diet_type == @Diet\")\n",
    "    Macronutrients = ['Protein(g)','Carbs(g)','Fat(g)']\n",
    "    def PlotMacronutients(TypePlot:str):\n",
    "        Display = \"PPCC\\n.FF.\"\n",
    "        fig , axes = plt.subplot_mosaic(Display,figsize=(12,8),layout='tight')\n",
    "    \n",
    "        ConfigPlot = zip(Macronutrients,['P','C','F'],['red','green','yellow'])\n",
    "        if TypePlot == 'histogram':\n",
    "            for macronutrient , display , color in ConfigPlot:\n",
    "                sns.histplot(data=diet_type_dataset,x=macronutrient,ax=axes[display],stat='proportion',bins=50,color=color)\n",
    "                axes[display].set_title(macronutrient[:-3])\n",
    "                axes[display].set_xlabel('Grams')\n",
    "\n",
    "        elif TypePlot == 'boxplot':\n",
    "            for macronutrient , display , color in ConfigPlot:\n",
    "                sns.boxplot(data=diet_type_dataset,x=macronutrient,ax=axes[display],color=color)\n",
    "                axes[display].set_title(macronutrient[:-3])\n",
    "                axes[display].set_xlabel('Grams')\n",
    "    \n",
    "        fig.suptitle(f'Diet: {Diet}',size=25)\n",
    "    \n",
    "    interact(PlotMacronutients,TypePlot=['histogram','boxplot'])"
   ]
  },
  {
   "cell_type": "code",
   "execution_count": 18,
   "metadata": {},
   "outputs": [],
   "source": [
    "# Function for plotting macronutrients by diet\n",
    "\n",
    "def PlotMacronutrients():\n",
    "    Display = \"PPCC\\n.FF.\"\n",
    "    fig , axes = plt.subplot_mosaic(Display,figsize=(12,8),layout='tight')\n",
    "        \n",
    "    ConfigPlot = zip(Macronutrients,['P','C','F'],['red','green','yellow'])\n",
    "    for macronutrient , display , color in ConfigPlot:\n",
    "        sns.boxplot(data=Diets_Dataset,x=macronutrient,y='Diet_type',ax=axes[display],color=color)\n",
    "        axes[display].set_title(macronutrient[:-3])\n",
    "        axes[display].set_xlabel('Grams')\n",
    "    \n",
    "    fig.suptitle('Distribution of Macronutrients by Diet',size=25)"
   ]
  },
  {
   "cell_type": "markdown",
   "metadata": {},
   "source": [
    "## Plotting of Macronutrients"
   ]
  },
  {
   "cell_type": "code",
   "execution_count": 11,
   "metadata": {},
   "outputs": [
    {
     "data": {
      "application/vnd.jupyter.widget-view+json": {
       "model_id": "3598975885fb4e38ab49b090c566ec0e",
       "version_major": 2,
       "version_minor": 0
      },
      "text/plain": [
       "interactive(children=(Dropdown(description='TypePlot', options=('histogram', 'boxplot'), value='histogram'), O…"
      ]
     },
     "metadata": {},
     "output_type": "display_data"
    },
    {
     "data": {
      "application/vnd.jupyter.widget-view+json": {
       "model_id": "7c7d1c19015e4f7fbd6c57764a76ad7b",
       "version_major": 2,
       "version_minor": 0
      },
      "text/plain": [
       "interactive(children=(Dropdown(description='TypePlot', options=('histogram', 'boxplot'), value='histogram'), O…"
      ]
     },
     "metadata": {},
     "output_type": "display_data"
    },
    {
     "data": {
      "application/vnd.jupyter.widget-view+json": {
       "model_id": "2bc922ea0bce42a4bd19e0ec2b572798",
       "version_major": 2,
       "version_minor": 0
      },
      "text/plain": [
       "interactive(children=(Dropdown(description='TypePlot', options=('histogram', 'boxplot'), value='histogram'), O…"
      ]
     },
     "metadata": {},
     "output_type": "display_data"
    },
    {
     "data": {
      "application/vnd.jupyter.widget-view+json": {
       "model_id": "02b7bd9e314f43c29d361766c3599de8",
       "version_major": 2,
       "version_minor": 0
      },
      "text/plain": [
       "interactive(children=(Dropdown(description='TypePlot', options=('histogram', 'boxplot'), value='histogram'), O…"
      ]
     },
     "metadata": {},
     "output_type": "display_data"
    },
    {
     "data": {
      "application/vnd.jupyter.widget-view+json": {
       "model_id": "eb968af25a63406ea1320b5844ed740b",
       "version_major": 2,
       "version_minor": 0
      },
      "text/plain": [
       "interactive(children=(Dropdown(description='TypePlot', options=('histogram', 'boxplot'), value='histogram'), O…"
      ]
     },
     "metadata": {},
     "output_type": "display_data"
    }
   ],
   "source": [
    "# Plotting of macronutrient values by type of diet\n",
    "\n",
    "for diet in Diets:\n",
    "    InteractivePlotMacronutientsByDiet(diet)"
   ]
  },
  {
   "cell_type": "code",
   "execution_count": 16,
   "metadata": {},
   "outputs": [
    {
     "data": {
      "image/png": "[encoded data removed]",
      "text/plain": [
       "<Figure size 1200x800 with 3 Axes>"
      ]
     },
     "metadata": {},
     "output_type": "display_data"
    }
   ],
   "source": [
    "# Plotting of macronutrient values\n",
    "\n",
    "PlotMacronutrients()"
   ]
  }
 ],
 "metadata": {
  "kernelspec": {
   "display_name": "Python 3",
   "language": "python",
   "name": "python3"
  },
  "language_info": {
   "codemirror_mode": {
    "name": "ipython",
    "version": 3
   },
   "file_extension": ".py",
   "mimetype": "text/x-python",
   "name": "python",
   "nbconvert_exporter": "python",
   "pygments_lexer": "ipython3",
   "version": "3.12.5"
  }
 },
 "nbformat": 4,
 "nbformat_minor": 2
}
