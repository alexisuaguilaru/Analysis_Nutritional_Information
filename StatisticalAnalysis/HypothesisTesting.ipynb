{
 "cells": [
  {
   "cell_type": "markdown",
   "id": "7a72ff50",
   "metadata": {},
   "source": [
    "# Introduction"
   ]
  },
  {
   "cell_type": "markdown",
   "id": "940bc799",
   "metadata": {},
   "source": [
    "The following hypothesis tests are intended to test and verify some of the observations and comments about the diets that were generated in the [Exploratory Data Analysis](./ExploratoryDataAnalysis.ipynb). Where the main question of the work is answered whether there is a distinction or difference in the nutritional contributions of the different diets."
   ]
  },
  {
   "cell_type": "markdown",
   "id": "f8225eeb",
   "metadata": {
    "vscode": {
     "languageId": "plaintext"
    }
   },
   "source": [
    "# Import Libraries"
   ]
  },
  {
   "cell_type": "code",
   "execution_count": 1,
   "id": "e6ef8caa",
   "metadata": {},
   "outputs": [],
   "source": [
    "# Importing required libraries\n",
    "\n",
    "import pandas as pd\n",
    "import numpy as np\n",
    "from scipy import stats\n",
    "\n",
    "import matplotlib.pyplot as plt\n",
    "import seaborn as sns"
   ]
  },
  {
   "cell_type": "markdown",
   "id": "8b067a72",
   "metadata": {},
   "source": [
    "# Loading of Dataset"
   ]
  },
  {
   "cell_type": "code",
   "execution_count": 2,
   "id": "fa982ce6",
   "metadata": {},
   "outputs": [],
   "source": [
    "# Loading cleaned dataset\n",
    "\n",
    "Diets_Dataset = pd.read_csv('../Datasets/Diets_Dataset_Cleaned.csv')"
   ]
  },
  {
   "cell_type": "code",
   "execution_count": 4,
   "id": "04eda477",
   "metadata": {},
   "outputs": [],
   "source": [
    "# Naming main variables\n",
    "\n",
    "Macronutrients = ['Carbs(g)','Protein(g)','Fat(g)']\n",
    "Diets = ['dash', 'keto', 'mediterranean', 'paleo', 'vegan']"
   ]
  },
  {
   "cell_type": "markdown",
   "id": "01d7f3c8",
   "metadata": {},
   "source": [
    "# [DASH] Is there a balance in daily macronutrient intake?"
   ]
  },
  {
   "cell_type": "markdown",
   "id": "f725e9b1",
   "metadata": {},
   "source": [
    "# [Keto] Do the recipes have the same macronutrient composition?"
   ]
  },
  {
   "cell_type": "markdown",
   "id": "596f904e",
   "metadata": {},
   "source": [
    "# [Mediterranean] Do recipes from other regions differ from those in the Mediterranean?"
   ]
  },
  {
   "cell_type": "markdown",
   "id": "2dea91f1",
   "metadata": {},
   "source": [
    "# [Paleo] Are the nutritional contributions of the recipes different for each region?"
   ]
  },
  {
   "cell_type": "markdown",
   "id": "3198161c",
   "metadata": {},
   "source": [
    "# [Vegan] Are the macronutrient contributions the same among the different recipes?"
   ]
  },
  {
   "cell_type": "markdown",
   "id": "68463312",
   "metadata": {},
   "source": [
    "# Is there a significant difference in the nutritional contributions of the different diets?"
   ]
  }
 ],
 "metadata": {
  "kernelspec": {
   "display_name": "Python 3",
   "language": "python",
   "name": "python3"
  },
  "language_info": {
   "codemirror_mode": {
    "name": "ipython",
    "version": 3
   },
   "file_extension": ".py",
   "mimetype": "text/x-python",
   "name": "python",
   "nbconvert_exporter": "python",
   "pygments_lexer": "ipython3",
   "version": "3.12.5"
  }
 },
 "nbformat": 4,
 "nbformat_minor": 5
}
