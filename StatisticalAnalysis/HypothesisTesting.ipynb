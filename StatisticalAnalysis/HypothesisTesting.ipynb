{
 "cells": [
  {
   "cell_type": "markdown",
   "id": "7a72ff50",
   "metadata": {},
   "source": [
    "# Introduction"
   ]
  },
  {
   "cell_type": "markdown",
   "id": "940bc799",
   "metadata": {},
   "source": [
    "The following hypothesis tests are intended to test and verify some of the observations and comments about the diets that were generated in the [Exploratory Data Analysis](./ExploratoryDataAnalysis.ipynb). Where the main question of the work is answered whether there is a distinction or difference in the nutritional contributions of the different diets."
   ]
  },
  {
   "cell_type": "markdown",
   "id": "87e4f9fd",
   "metadata": {},
   "source": [
    "# 0. Setting Dataset, Functions and Other Code"
   ]
  },
  {
   "cell_type": "markdown",
   "id": "f8225eeb",
   "metadata": {
    "vscode": {
     "languageId": "plaintext"
    }
   },
   "source": [
    "## 0.1 Import Libraries"
   ]
  },
  {
   "cell_type": "code",
   "execution_count": 122,
   "id": "e6ef8caa",
   "metadata": {},
   "outputs": [],
   "source": [
    "# Importing required libraries\n",
    "\n",
    "import pandas as pd\n",
    "import numpy as np\n",
    "\n",
    "from scipy import stats\n",
    "import statsmodels.stats.weightstats as sm\n",
    "\n",
    "import matplotlib.pyplot as plt\n",
    "import seaborn as sns"
   ]
  },
  {
   "cell_type": "code",
   "execution_count": 141,
   "id": "c8bda874",
   "metadata": {},
   "outputs": [],
   "source": [
    "# Importing functions for Hypothesis Testing\n",
    "\n",
    "from FunctionsHypothesisTesting import *"
   ]
  },
  {
   "cell_type": "markdown",
   "id": "8b067a72",
   "metadata": {},
   "source": [
    "## 0.2 Loading of Dataset"
   ]
  },
  {
   "cell_type": "code",
   "execution_count": 2,
   "id": "fa982ce6",
   "metadata": {},
   "outputs": [],
   "source": [
    "# Loading cleaned dataset\n",
    "\n",
    "Diets_Dataset = pd.read_csv('../Datasets/Diets_Dataset_Cleaned.csv')"
   ]
  },
  {
   "cell_type": "markdown",
   "id": "bc89b413",
   "metadata": {},
   "source": [
    "## 0.3 Setting Universal Variables"
   ]
  },
  {
   "cell_type": "code",
   "execution_count": 33,
   "id": "04eda477",
   "metadata": {},
   "outputs": [],
   "source": [
    "# Naming main variables\n",
    "\n",
    "Macronutrients = ['Carbs(g)','Protein(g)','Fat(g)']\n",
    "TotalMacronutrients = 'Total_Macronutrients'\n",
    "Diets = ['dash', 'keto', 'mediterranean', 'paleo', 'vegan']"
   ]
  },
  {
   "cell_type": "code",
   "execution_count": 34,
   "id": "0b1e7d51",
   "metadata": {},
   "outputs": [],
   "source": [
    "# Setting random state\n",
    "\n",
    "RANDOM_STATE = 8013"
   ]
  },
  {
   "cell_type": "markdown",
   "id": "01d7f3c8",
   "metadata": {},
   "source": [
    "# 1. [DASH] Is there a balance in daily macronutrient intake?"
   ]
  },
  {
   "cell_type": "markdown",
   "id": "63954d88",
   "metadata": {},
   "source": [
    "For determining whether there is a balance in the daily intake of macronutrients, it is sufficient to look at the behavior of nutritional intake at the time of consuming five recipes, equivalent to five meals a day.\n",
    "\n",
    "For achieving the above, eating five meals is simulated as randomly sampling five recipes and calculating the nutritional contributions provided to the total of each macronutrient. This random sampling process is repeated 200 times to generate a sample equivalent to following this diet using the recipes in the data set for 200 days.\n",
    "\n",
    "For testing if there is a balance in the daily macronutrient intake, it is to test if there is no significant difference between the nutritional intake and the nutritional balance, that is, consuming the same proportions of macronutrients."
   ]
  },
  {
   "cell_type": "markdown",
   "id": "8d5375fe",
   "metadata": {},
   "source": [
    "The following set of hypotheses is used to test the balance sheet:\n",
    "\n",
    "$$H_0 : \\overline{\\text{M}} = 1/3$$\n",
    "$$H_1 : \\overline{\\text{M}} \\ne 1/3$$\n",
    "\n",
    "Where $\\overline{\\text{M}}$ refers to the sample average of the contributions of some macronutrient. Because the sample size is $n = 200$, the Central Limit Theorem (CLT) is verified, therefore using the Z Test will give reliable results for the rejection or acceptance of the null hypothesis $H_0$; for improving the quality of the test, the normality of the data is tested using the Kolmogorov-Smirnov Test with two tails and a significance of $5%$. In the case of the Z Test, it is performed with two tails and a significance of $5%$."
   ]
  },
  {
   "cell_type": "markdown",
   "id": "ca9978b4",
   "metadata": {},
   "source": [
    "Since the mean daily macronutrient intake differs significantly from the balance (with a daily intake of $1/3$) with a confidence level of $95\\%$, it follows that the DASH diet could not be classified as a balanced diet with respect to macronutrient intake. As it favors the intake of certain food groups that impact its macronutrient intake, therefore, by how it is defined, this diet follows some pattern on the food groups that are consumed favoring certain groups in favor of cardiovascular health."
   ]
  },
  {
   "cell_type": "markdown",
   "id": "c405fff3",
   "metadata": {},
   "source": [
    "## 1.1 Simulation of 200 Days following the DASH Diet"
   ]
  },
  {
   "cell_type": "code",
   "execution_count": null,
   "id": "2f546cfd",
   "metadata": {},
   "outputs": [
    {
     "data": {
      "text/html": [
       "<div>\n",
       "<style scoped>\n",
       "    .dataframe tbody tr th:only-of-type {\n",
       "        vertical-align: middle;\n",
       "    }\n",
       "\n",
       "    .dataframe tbody tr th {\n",
       "        vertical-align: top;\n",
       "    }\n",
       "\n",
       "    .dataframe thead th {\n",
       "        text-align: right;\n",
       "    }\n",
       "</style>\n",
       "<table border=\"1\" class=\"dataframe\">\n",
       "  <thead>\n",
       "    <tr style=\"text-align: right;\">\n",
       "      <th></th>\n",
       "      <th>Diet_type</th>\n",
       "      <th>Recipe_name</th>\n",
       "      <th>Cuisine_type</th>\n",
       "      <th>Protein(g)</th>\n",
       "      <th>Carbs(g)</th>\n",
       "      <th>Fat(g)</th>\n",
       "      <th>Total_Macronutrients</th>\n",
       "    </tr>\n",
       "  </thead>\n",
       "  <tbody>\n",
       "    <tr>\n",
       "      <th>0</th>\n",
       "      <td>dash</td>\n",
       "      <td>Apple and cabbage salad with apple molasses dr...</td>\n",
       "      <td>middle eastern</td>\n",
       "      <td>0.111425</td>\n",
       "      <td>0.465508</td>\n",
       "      <td>0.423067</td>\n",
       "      <td>467.94</td>\n",
       "    </tr>\n",
       "    <tr>\n",
       "      <th>1</th>\n",
       "      <td>dash</td>\n",
       "      <td>Yogurt Pops</td>\n",
       "      <td>american</td>\n",
       "      <td>0.177773</td>\n",
       "      <td>0.667385</td>\n",
       "      <td>0.154841</td>\n",
       "      <td>51.02</td>\n",
       "    </tr>\n",
       "    <tr>\n",
       "      <th>2</th>\n",
       "      <td>dash</td>\n",
       "      <td>Caesar Bread Salad Or Panzanella Giulio</td>\n",
       "      <td>american</td>\n",
       "      <td>0.169658</td>\n",
       "      <td>0.520477</td>\n",
       "      <td>0.309865</td>\n",
       "      <td>583.35</td>\n",
       "    </tr>\n",
       "    <tr>\n",
       "      <th>3</th>\n",
       "      <td>dash</td>\n",
       "      <td>Cashew Chicken Bake</td>\n",
       "      <td>south american</td>\n",
       "      <td>0.342140</td>\n",
       "      <td>0.397390</td>\n",
       "      <td>0.260470</td>\n",
       "      <td>436.02</td>\n",
       "    </tr>\n",
       "    <tr>\n",
       "      <th>4</th>\n",
       "      <td>dash</td>\n",
       "      <td>Crab and Avocado Mimosa recipes</td>\n",
       "      <td>british</td>\n",
       "      <td>0.273198</td>\n",
       "      <td>0.230713</td>\n",
       "      <td>0.496089</td>\n",
       "      <td>204.54</td>\n",
       "    </tr>\n",
       "    <tr>\n",
       "      <th>...</th>\n",
       "      <td>...</td>\n",
       "      <td>...</td>\n",
       "      <td>...</td>\n",
       "      <td>...</td>\n",
       "      <td>...</td>\n",
       "      <td>...</td>\n",
       "      <td>...</td>\n",
       "    </tr>\n",
       "    <tr>\n",
       "      <th>995</th>\n",
       "      <td>dash</td>\n",
       "      <td>Olive Crema</td>\n",
       "      <td>mediterranean</td>\n",
       "      <td>0.068931</td>\n",
       "      <td>0.455211</td>\n",
       "      <td>0.475857</td>\n",
       "      <td>30.03</td>\n",
       "    </tr>\n",
       "    <tr>\n",
       "      <th>996</th>\n",
       "      <td>dash</td>\n",
       "      <td>Bourbon Old Fashioned Recipe</td>\n",
       "      <td>british</td>\n",
       "      <td>0.000000</td>\n",
       "      <td>1.000000</td>\n",
       "      <td>0.000000</td>\n",
       "      <td>10.42</td>\n",
       "    </tr>\n",
       "    <tr>\n",
       "      <th>997</th>\n",
       "      <td>dash</td>\n",
       "      <td>Apple Cinnamon Turnovers</td>\n",
       "      <td>middle eastern</td>\n",
       "      <td>0.067926</td>\n",
       "      <td>0.756360</td>\n",
       "      <td>0.175714</td>\n",
       "      <td>205.96</td>\n",
       "    </tr>\n",
       "    <tr>\n",
       "      <th>998</th>\n",
       "      <td>dash</td>\n",
       "      <td>Nutted Chicken-Rice Noodle Casserole</td>\n",
       "      <td>asian</td>\n",
       "      <td>0.225585</td>\n",
       "      <td>0.429676</td>\n",
       "      <td>0.344738</td>\n",
       "      <td>549.46</td>\n",
       "    </tr>\n",
       "    <tr>\n",
       "      <th>999</th>\n",
       "      <td>dash</td>\n",
       "      <td>Commodity Pasta</td>\n",
       "      <td>italian</td>\n",
       "      <td>0.177445</td>\n",
       "      <td>0.654303</td>\n",
       "      <td>0.168253</td>\n",
       "      <td>526.53</td>\n",
       "    </tr>\n",
       "  </tbody>\n",
       "</table>\n",
       "<p>1000 rows × 7 columns</p>\n",
       "</div>"
      ],
      "text/plain": [
       "    Diet_type                                        Recipe_name  \\\n",
       "0        dash  Apple and cabbage salad with apple molasses dr...   \n",
       "1        dash                                        Yogurt Pops   \n",
       "2        dash            Caesar Bread Salad Or Panzanella Giulio   \n",
       "3        dash                                Cashew Chicken Bake   \n",
       "4        dash                    Crab and Avocado Mimosa recipes   \n",
       "..        ...                                                ...   \n",
       "995      dash                                        Olive Crema   \n",
       "996      dash                       Bourbon Old Fashioned Recipe   \n",
       "997      dash                           Apple Cinnamon Turnovers   \n",
       "998      dash               Nutted Chicken-Rice Noodle Casserole   \n",
       "999      dash                                    Commodity Pasta   \n",
       "\n",
       "       Cuisine_type  Protein(g)  Carbs(g)    Fat(g)  Total_Macronutrients  \n",
       "0    middle eastern    0.111425  0.465508  0.423067                467.94  \n",
       "1          american    0.177773  0.667385  0.154841                 51.02  \n",
       "2          american    0.169658  0.520477  0.309865                583.35  \n",
       "3    south american    0.342140  0.397390  0.260470                436.02  \n",
       "4           british    0.273198  0.230713  0.496089                204.54  \n",
       "..              ...         ...       ...       ...                   ...  \n",
       "995   mediterranean    0.068931  0.455211  0.475857                 30.03  \n",
       "996         british    0.000000  1.000000  0.000000                 10.42  \n",
       "997  middle eastern    0.067926  0.756360  0.175714                205.96  \n",
       "998           asian    0.225585  0.429676  0.344738                549.46  \n",
       "999         italian    0.177445  0.654303  0.168253                526.53  \n",
       "\n",
       "[1000 rows x 7 columns]"
      ]
     },
     "execution_count": 35,
     "metadata": {},
     "output_type": "execute_result"
    }
   ],
   "source": [
    "# Getting sample of recipes\n",
    "\n",
    "sample_size_dash = 1000 # 5 recipes times 200 days\n",
    "\n",
    "sample_recipes_dash = Diets_Dataset.query(\"Diet_type == 'dash'\").sample(n=sample_size_dash,random_state=RANDOM_STATE)\n",
    "sample_recipes_dash.reset_index(inplace=True,drop=True)\n",
    "\n",
    "sample_recipes_dash"
   ]
  },
  {
   "cell_type": "code",
   "execution_count": 42,
   "id": "1b66a431",
   "metadata": {},
   "outputs": [
    {
     "data": {
      "text/html": [
       "<div>\n",
       "<style scoped>\n",
       "    .dataframe tbody tr th:only-of-type {\n",
       "        vertical-align: middle;\n",
       "    }\n",
       "\n",
       "    .dataframe tbody tr th {\n",
       "        vertical-align: top;\n",
       "    }\n",
       "\n",
       "    .dataframe thead th {\n",
       "        text-align: right;\n",
       "    }\n",
       "</style>\n",
       "<table border=\"1\" class=\"dataframe\">\n",
       "  <thead>\n",
       "    <tr style=\"text-align: right;\">\n",
       "      <th></th>\n",
       "      <th>Carbs(g)</th>\n",
       "      <th>Protein(g)</th>\n",
       "      <th>Fat(g)</th>\n",
       "    </tr>\n",
       "  </thead>\n",
       "  <tbody>\n",
       "    <tr>\n",
       "      <th>0</th>\n",
       "      <td>775.96</td>\n",
       "      <td>365.24</td>\n",
       "      <td>601.67</td>\n",
       "    </tr>\n",
       "    <tr>\n",
       "      <th>1</th>\n",
       "      <td>560.89</td>\n",
       "      <td>260.33</td>\n",
       "      <td>392.56</td>\n",
       "    </tr>\n",
       "    <tr>\n",
       "      <th>2</th>\n",
       "      <td>1023.40</td>\n",
       "      <td>213.60</td>\n",
       "      <td>225.97</td>\n",
       "    </tr>\n",
       "    <tr>\n",
       "      <th>3</th>\n",
       "      <td>1261.33</td>\n",
       "      <td>576.28</td>\n",
       "      <td>1137.50</td>\n",
       "    </tr>\n",
       "    <tr>\n",
       "      <th>4</th>\n",
       "      <td>460.30</td>\n",
       "      <td>325.97</td>\n",
       "      <td>238.28</td>\n",
       "    </tr>\n",
       "    <tr>\n",
       "      <th>...</th>\n",
       "      <td>...</td>\n",
       "      <td>...</td>\n",
       "      <td>...</td>\n",
       "    </tr>\n",
       "    <tr>\n",
       "      <th>195</th>\n",
       "      <td>892.45</td>\n",
       "      <td>301.45</td>\n",
       "      <td>461.31</td>\n",
       "    </tr>\n",
       "    <tr>\n",
       "      <th>196</th>\n",
       "      <td>778.50</td>\n",
       "      <td>346.90</td>\n",
       "      <td>264.71</td>\n",
       "    </tr>\n",
       "    <tr>\n",
       "      <th>197</th>\n",
       "      <td>528.89</td>\n",
       "      <td>307.86</td>\n",
       "      <td>274.54</td>\n",
       "    </tr>\n",
       "    <tr>\n",
       "      <th>198</th>\n",
       "      <td>356.44</td>\n",
       "      <td>325.35</td>\n",
       "      <td>257.69</td>\n",
       "    </tr>\n",
       "    <tr>\n",
       "      <th>199</th>\n",
       "      <td>760.47</td>\n",
       "      <td>233.44</td>\n",
       "      <td>328.49</td>\n",
       "    </tr>\n",
       "  </tbody>\n",
       "</table>\n",
       "<p>200 rows × 3 columns</p>\n",
       "</div>"
      ],
      "text/plain": [
       "     Carbs(g)  Protein(g)   Fat(g)\n",
       "0      775.96      365.24   601.67\n",
       "1      560.89      260.33   392.56\n",
       "2     1023.40      213.60   225.97\n",
       "3     1261.33      576.28  1137.50\n",
       "4      460.30      325.97   238.28\n",
       "..        ...         ...      ...\n",
       "195    892.45      301.45   461.31\n",
       "196    778.50      346.90   264.71\n",
       "197    528.89      307.86   274.54\n",
       "198    356.44      325.35   257.69\n",
       "199    760.47      233.44   328.49\n",
       "\n",
       "[200 rows x 3 columns]"
      ]
     },
     "execution_count": 42,
     "metadata": {},
     "output_type": "execute_result"
    }
   ],
   "source": [
    "# Getting daily intake macronutrients\n",
    "\n",
    "total_macronutrients_sample_dash = sample_recipes_dash[TotalMacronutrients].to_numpy()[:,None]\n",
    "macronutriens_sample_recipes_dash = sample_recipes_dash[Macronutrients]*total_macronutrients_sample_dash\n",
    "daily_macronutrients_dash = macronutriens_sample_recipes_dash.groupby(macronutriens_sample_recipes_dash.index//5).sum()\n",
    "\n",
    "daily_macronutrients_dash"
   ]
  },
  {
   "cell_type": "code",
   "execution_count": 46,
   "id": "b497f0ad",
   "metadata": {},
   "outputs": [],
   "source": [
    "# Getting proportional macronutrients in each day\n",
    "\n",
    "total_daily_macronutrients_dash = daily_macronutrients_dash.sum(axis=1).to_numpy()[:,None]\n",
    "\n",
    "daily_macronutrients_dash /= total_daily_macronutrients_dash"
   ]
  },
  {
   "cell_type": "markdown",
   "id": "fae54817",
   "metadata": {},
   "source": [
    "## 1.2 Applying the Hypothesis Test"
   ]
  },
  {
   "cell_type": "code",
   "execution_count": null,
   "id": "0332e063",
   "metadata": {},
   "outputs": [
    {
     "name": "stdout",
     "output_type": "stream",
     "text": [
      "Carbs does follow a normal distribution\n",
      "Carbs is not balanced\n",
      "\n",
      "Protein does follow a normal distribution\n",
      "Protein is not balanced\n",
      "\n",
      "Fat does follow a normal distribution\n",
      "Fat is not balanced\n",
      "\n"
     ]
    }
   ],
   "source": [
    "# Testing significance difference\n",
    "\n",
    "pvalues_z_test = DashBalanceMacronutrients(daily_macronutrients_dash,Macronutrients)"
   ]
  },
  {
   "cell_type": "markdown",
   "id": "f725e9b1",
   "metadata": {},
   "source": [
    "# [Keto] Do the recipes have the same macronutrient composition?"
   ]
  },
  {
   "cell_type": "markdown",
   "id": "596f904e",
   "metadata": {},
   "source": [
    "# [Mediterranean] Do recipes from other regions differ from those in the Mediterranean?"
   ]
  },
  {
   "cell_type": "markdown",
   "id": "2dea91f1",
   "metadata": {},
   "source": [
    "# [Paleo] Are the nutritional contributions of the recipes different for each region?"
   ]
  },
  {
   "cell_type": "markdown",
   "id": "3198161c",
   "metadata": {},
   "source": [
    "# [Vegan] Are the macronutrient contributions the same among the different recipes?"
   ]
  },
  {
   "cell_type": "markdown",
   "id": "68463312",
   "metadata": {},
   "source": [
    "# Is there a significant difference in the nutritional contributions of the different diets?"
   ]
  }
 ],
 "metadata": {
  "kernelspec": {
   "display_name": "Python 3",
   "language": "python",
   "name": "python3"
  },
  "language_info": {
   "codemirror_mode": {
    "name": "ipython",
    "version": 3
   },
   "file_extension": ".py",
   "mimetype": "text/x-python",
   "name": "python",
   "nbconvert_exporter": "python",
   "pygments_lexer": "ipython3",
   "version": "3.12.5"
  }
 },
 "nbformat": 4,
 "nbformat_minor": 5
}
