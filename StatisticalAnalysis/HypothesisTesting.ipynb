{
 "cells": [
  {
   "cell_type": "markdown",
   "id": "7a72ff50",
   "metadata": {},
   "source": [
    "# Introduction"
   ]
  },
  {
   "cell_type": "markdown",
   "id": "940bc799",
   "metadata": {},
   "source": [
    "The following hypothesis tests are intended to test and verify some of the observations and comments about the diets that were generated in the [Exploratory Data Analysis](./ExploratoryDataAnalysis.ipynb). Where the main question of the work is answered whether there is a distinction or difference in the nutritional contributions of the different diets. In order to solve and test the different hypotheses, use is made of the data set obtained after transforming the macronutrients in [EDA: Transformation of Macronutrient Values](./ExploratoryDataAnalysis.ipynb)."
   ]
  },
  {
   "cell_type": "markdown",
   "id": "87e4f9fd",
   "metadata": {},
   "source": [
    "# 0. Setting Dataset, Functions and Other Code"
   ]
  },
  {
   "cell_type": "markdown",
   "id": "f8225eeb",
   "metadata": {
    "vscode": {
     "languageId": "plaintext"
    }
   },
   "source": [
    "## 0.1 Import Libraries"
   ]
  },
  {
   "cell_type": "code",
   "execution_count": 1,
   "id": "e6ef8caa",
   "metadata": {},
   "outputs": [],
   "source": [
    "# Importing required libraries\n",
    "\n",
    "import pandas as pd\n",
    "import numpy as np\n",
    "\n",
    "from scipy import stats\n",
    "import statsmodels.stats.weightstats as sm\n",
    "\n",
    "import matplotlib.pyplot as plt\n",
    "import seaborn as sns"
   ]
  },
  {
   "cell_type": "code",
   "execution_count": 2,
   "id": "c8bda874",
   "metadata": {},
   "outputs": [],
   "source": [
    "# Importing functions for Hypothesis Testing\n",
    "\n",
    "from FunctionsHypothesisTesting import *"
   ]
  },
  {
   "cell_type": "markdown",
   "id": "8b067a72",
   "metadata": {},
   "source": [
    "## 0.2 Loading of Dataset"
   ]
  },
  {
   "cell_type": "code",
   "execution_count": 3,
   "id": "fa982ce6",
   "metadata": {},
   "outputs": [],
   "source": [
    "# Loading cleaned dataset\n",
    "\n",
    "Diets_Dataset = pd.read_csv('../Datasets/Diets_Dataset_Processed.csv')"
   ]
  },
  {
   "cell_type": "markdown",
   "id": "bc89b413",
   "metadata": {},
   "source": [
    "## 0.3 Setting Universal Variables"
   ]
  },
  {
   "cell_type": "code",
   "execution_count": 4,
   "id": "04eda477",
   "metadata": {},
   "outputs": [],
   "source": [
    "# Naming main variables\n",
    "\n",
    "Macronutrients = ['Carbs(g)','Protein(g)','Fat(g)']\n",
    "TotalMacronutrients = 'Total_Macronutrients'\n",
    "Diets = ['dash', 'keto', 'mediterranean', 'paleo', 'vegan']"
   ]
  },
  {
   "cell_type": "code",
   "execution_count": 5,
   "id": "0b1e7d51",
   "metadata": {},
   "outputs": [],
   "source": [
    "# Setting random state\n",
    "\n",
    "RANDOM_STATE = 8013"
   ]
  },
  {
   "cell_type": "markdown",
   "id": "01d7f3c8",
   "metadata": {},
   "source": [
    "# 1. [DASH] Is there a balance in daily macronutrient intake?"
   ]
  },
  {
   "cell_type": "markdown",
   "id": "63954d88",
   "metadata": {},
   "source": [
    "For determining whether there is a balance in the daily intake of macronutrients, it is sufficient to look at the behavior of nutritional intake at the time of consuming five recipes, equivalent to five meals a day.\n",
    "\n",
    "For achieving the above, eating five meals is simulated as randomly sampling five recipes and calculating the nutritional contributions provided to the total of each macronutrient. This random sampling process is repeated 200 times to generate a sample equivalent to following this diet using the recipes in the data set for 200 days.\n",
    "\n",
    "For testing if there is a balance in the daily macronutrient intake, it is to test if there is no significant difference between the nutritional intake and the nutritional balance, that is, consuming the same proportions of macronutrients."
   ]
  },
  {
   "cell_type": "markdown",
   "id": "8d5375fe",
   "metadata": {},
   "source": [
    "The following set of hypotheses is used to test the balance of macronutrients:\n",
    "\n",
    "$$H_0 : \\overline{\\text{M}} = 1/3$$\n",
    "$$H_1 : \\overline{\\text{M}} \\ne 1/3$$\n",
    "\n",
    "Where $\\overline{\\text{M}}$ refers to the sample mean of the contributions of some macronutrient. Because the sample size is $n = 200$, the Central Limit Theorem (CLT) is verified, therefore using the Z Test will give reliable results for the rejection or acceptance of the null hypothesis $H_0$; for improving the quality of the test, the normality of the data is tested using the Kolmogorov-Smirnov Test with two tails and a significance of $5%$. In the case of the Z Test, it is performed with two tails and a significance of $5%$."
   ]
  },
  {
   "cell_type": "markdown",
   "id": "ca9978b4",
   "metadata": {},
   "source": [
    "Since the mean daily macronutrient intake differs significantly from the balance (with a daily intake of $1/3$) with a confidence level of $95\\%$, it follows that the DASH diet could not be classified as a balanced diet with respect to macronutrient intake. As it favors the intake of certain food groups that impact its macronutrient intake, therefore, by how it is defined, this diet follows some pattern on the food groups that are consumed favoring certain groups in favor of cardiovascular health."
   ]
  },
  {
   "cell_type": "markdown",
   "id": "c405fff3",
   "metadata": {},
   "source": [
    "## 1.1 Simulation of 200 Days following the DASH Diet"
   ]
  },
  {
   "cell_type": "code",
   "execution_count": 6,
   "id": "2f546cfd",
   "metadata": {},
   "outputs": [
    {
     "data": {
      "text/html": [
       "<div>\n",
       "<style scoped>\n",
       "    .dataframe tbody tr th:only-of-type {\n",
       "        vertical-align: middle;\n",
       "    }\n",
       "\n",
       "    .dataframe tbody tr th {\n",
       "        vertical-align: top;\n",
       "    }\n",
       "\n",
       "    .dataframe thead th {\n",
       "        text-align: right;\n",
       "    }\n",
       "</style>\n",
       "<table border=\"1\" class=\"dataframe\">\n",
       "  <thead>\n",
       "    <tr style=\"text-align: right;\">\n",
       "      <th></th>\n",
       "      <th>Diet_type</th>\n",
       "      <th>Recipe_name</th>\n",
       "      <th>Cuisine_type</th>\n",
       "      <th>Protein(g)</th>\n",
       "      <th>Carbs(g)</th>\n",
       "      <th>Fat(g)</th>\n",
       "      <th>Total_Macronutrients</th>\n",
       "    </tr>\n",
       "  </thead>\n",
       "  <tbody>\n",
       "    <tr>\n",
       "      <th>0</th>\n",
       "      <td>dash</td>\n",
       "      <td>Old Fashioned</td>\n",
       "      <td>world</td>\n",
       "      <td>0.012245</td>\n",
       "      <td>0.985714</td>\n",
       "      <td>0.002041</td>\n",
       "      <td>9.80</td>\n",
       "    </tr>\n",
       "    <tr>\n",
       "      <th>1</th>\n",
       "      <td>dash</td>\n",
       "      <td>Southwestern Breakfast Tostadas</td>\n",
       "      <td>american</td>\n",
       "      <td>0.295270</td>\n",
       "      <td>0.470753</td>\n",
       "      <td>0.233977</td>\n",
       "      <td>100.01</td>\n",
       "    </tr>\n",
       "    <tr>\n",
       "      <th>2</th>\n",
       "      <td>dash</td>\n",
       "      <td>Best-Ever Guacamole</td>\n",
       "      <td>mexican</td>\n",
       "      <td>0.082764</td>\n",
       "      <td>0.397757</td>\n",
       "      <td>0.519479</td>\n",
       "      <td>171.21</td>\n",
       "    </tr>\n",
       "    <tr>\n",
       "      <th>3</th>\n",
       "      <td>dash</td>\n",
       "      <td>La Paloma</td>\n",
       "      <td>world</td>\n",
       "      <td>0.059126</td>\n",
       "      <td>0.922879</td>\n",
       "      <td>0.017995</td>\n",
       "      <td>3.89</td>\n",
       "    </tr>\n",
       "    <tr>\n",
       "      <th>4</th>\n",
       "      <td>dash</td>\n",
       "      <td>Melty Chocolate-Stuffed French Toast with Lemo...</td>\n",
       "      <td>french</td>\n",
       "      <td>0.168321</td>\n",
       "      <td>0.673972</td>\n",
       "      <td>0.157707</td>\n",
       "      <td>626.48</td>\n",
       "    </tr>\n",
       "    <tr>\n",
       "      <th>...</th>\n",
       "      <td>...</td>\n",
       "      <td>...</td>\n",
       "      <td>...</td>\n",
       "      <td>...</td>\n",
       "      <td>...</td>\n",
       "      <td>...</td>\n",
       "      <td>...</td>\n",
       "    </tr>\n",
       "    <tr>\n",
       "      <th>995</th>\n",
       "      <td>dash</td>\n",
       "      <td>East India Cocktail</td>\n",
       "      <td>american</td>\n",
       "      <td>0.007240</td>\n",
       "      <td>0.990950</td>\n",
       "      <td>0.001810</td>\n",
       "      <td>11.05</td>\n",
       "    </tr>\n",
       "    <tr>\n",
       "      <th>996</th>\n",
       "      <td>dash</td>\n",
       "      <td>Kale and Feta Burrito</td>\n",
       "      <td>mediterranean</td>\n",
       "      <td>0.198113</td>\n",
       "      <td>0.682939</td>\n",
       "      <td>0.118949</td>\n",
       "      <td>270.20</td>\n",
       "    </tr>\n",
       "    <tr>\n",
       "      <th>997</th>\n",
       "      <td>dash</td>\n",
       "      <td>Cranberry-Whiskey Sour Slush</td>\n",
       "      <td>world</td>\n",
       "      <td>0.007384</td>\n",
       "      <td>0.989938</td>\n",
       "      <td>0.002678</td>\n",
       "      <td>261.38</td>\n",
       "    </tr>\n",
       "    <tr>\n",
       "      <th>998</th>\n",
       "      <td>dash</td>\n",
       "      <td>Tiny Meat Cakes (Bolos de Carne)</td>\n",
       "      <td>mexican</td>\n",
       "      <td>0.538876</td>\n",
       "      <td>0.143764</td>\n",
       "      <td>0.317360</td>\n",
       "      <td>187.39</td>\n",
       "    </tr>\n",
       "    <tr>\n",
       "      <th>999</th>\n",
       "      <td>dash</td>\n",
       "      <td>Sensational Chicken Noodle Soup</td>\n",
       "      <td>asian</td>\n",
       "      <td>0.452096</td>\n",
       "      <td>0.390362</td>\n",
       "      <td>0.157542</td>\n",
       "      <td>138.82</td>\n",
       "    </tr>\n",
       "  </tbody>\n",
       "</table>\n",
       "<p>1000 rows × 7 columns</p>\n",
       "</div>"
      ],
      "text/plain": [
       "    Diet_type                                        Recipe_name  \\\n",
       "0        dash                                      Old Fashioned   \n",
       "1        dash                    Southwestern Breakfast Tostadas   \n",
       "2        dash                                Best-Ever Guacamole   \n",
       "3        dash                                          La Paloma   \n",
       "4        dash  Melty Chocolate-Stuffed French Toast with Lemo...   \n",
       "..        ...                                                ...   \n",
       "995      dash                                East India Cocktail   \n",
       "996      dash                              Kale and Feta Burrito   \n",
       "997      dash                       Cranberry-Whiskey Sour Slush   \n",
       "998      dash                   Tiny Meat Cakes (Bolos de Carne)   \n",
       "999      dash                    Sensational Chicken Noodle Soup   \n",
       "\n",
       "      Cuisine_type  Protein(g)  Carbs(g)    Fat(g)  Total_Macronutrients  \n",
       "0            world    0.012245  0.985714  0.002041                  9.80  \n",
       "1         american    0.295270  0.470753  0.233977                100.01  \n",
       "2          mexican    0.082764  0.397757  0.519479                171.21  \n",
       "3            world    0.059126  0.922879  0.017995                  3.89  \n",
       "4           french    0.168321  0.673972  0.157707                626.48  \n",
       "..             ...         ...       ...       ...                   ...  \n",
       "995       american    0.007240  0.990950  0.001810                 11.05  \n",
       "996  mediterranean    0.198113  0.682939  0.118949                270.20  \n",
       "997          world    0.007384  0.989938  0.002678                261.38  \n",
       "998        mexican    0.538876  0.143764  0.317360                187.39  \n",
       "999          asian    0.452096  0.390362  0.157542                138.82  \n",
       "\n",
       "[1000 rows x 7 columns]"
      ]
     },
     "execution_count": 6,
     "metadata": {},
     "output_type": "execute_result"
    }
   ],
   "source": [
    "# Getting sample of recipes\n",
    "\n",
    "sample_size_dash = 1000 # 5 recipes times 200 days\n",
    "\n",
    "sample_recipes_dash = Diets_Dataset.query(\"Diet_type == 'dash'\").sample(n=sample_size_dash,random_state=RANDOM_STATE)\n",
    "sample_recipes_dash.reset_index(inplace=True,drop=True)\n",
    "\n",
    "sample_recipes_dash"
   ]
  },
  {
   "cell_type": "code",
   "execution_count": 7,
   "id": "1b66a431",
   "metadata": {},
   "outputs": [
    {
     "data": {
      "text/html": [
       "<div>\n",
       "<style scoped>\n",
       "    .dataframe tbody tr th:only-of-type {\n",
       "        vertical-align: middle;\n",
       "    }\n",
       "\n",
       "    .dataframe tbody tr th {\n",
       "        vertical-align: top;\n",
       "    }\n",
       "\n",
       "    .dataframe thead th {\n",
       "        text-align: right;\n",
       "    }\n",
       "</style>\n",
       "<table border=\"1\" class=\"dataframe\">\n",
       "  <thead>\n",
       "    <tr style=\"text-align: right;\">\n",
       "      <th></th>\n",
       "      <th>Carbs(g)</th>\n",
       "      <th>Protein(g)</th>\n",
       "      <th>Fat(g)</th>\n",
       "    </tr>\n",
       "  </thead>\n",
       "  <tbody>\n",
       "    <tr>\n",
       "      <th>0</th>\n",
       "      <td>550.66</td>\n",
       "      <td>149.50</td>\n",
       "      <td>211.23</td>\n",
       "    </tr>\n",
       "    <tr>\n",
       "      <th>1</th>\n",
       "      <td>606.00</td>\n",
       "      <td>150.59</td>\n",
       "      <td>482.76</td>\n",
       "    </tr>\n",
       "    <tr>\n",
       "      <th>2</th>\n",
       "      <td>850.35</td>\n",
       "      <td>644.08</td>\n",
       "      <td>727.49</td>\n",
       "    </tr>\n",
       "    <tr>\n",
       "      <th>3</th>\n",
       "      <td>346.88</td>\n",
       "      <td>409.59</td>\n",
       "      <td>307.41</td>\n",
       "    </tr>\n",
       "    <tr>\n",
       "      <th>4</th>\n",
       "      <td>261.65</td>\n",
       "      <td>40.63</td>\n",
       "      <td>88.99</td>\n",
       "    </tr>\n",
       "    <tr>\n",
       "      <th>...</th>\n",
       "      <td>...</td>\n",
       "      <td>...</td>\n",
       "      <td>...</td>\n",
       "    </tr>\n",
       "    <tr>\n",
       "      <th>195</th>\n",
       "      <td>679.70</td>\n",
       "      <td>100.53</td>\n",
       "      <td>367.02</td>\n",
       "    </tr>\n",
       "    <tr>\n",
       "      <th>196</th>\n",
       "      <td>1181.21</td>\n",
       "      <td>385.90</td>\n",
       "      <td>258.08</td>\n",
       "    </tr>\n",
       "    <tr>\n",
       "      <th>197</th>\n",
       "      <td>575.96</td>\n",
       "      <td>57.29</td>\n",
       "      <td>40.45</td>\n",
       "    </tr>\n",
       "    <tr>\n",
       "      <th>198</th>\n",
       "      <td>511.62</td>\n",
       "      <td>412.34</td>\n",
       "      <td>923.98</td>\n",
       "    </tr>\n",
       "    <tr>\n",
       "      <th>199</th>\n",
       "      <td>535.36</td>\n",
       "      <td>219.28</td>\n",
       "      <td>114.20</td>\n",
       "    </tr>\n",
       "  </tbody>\n",
       "</table>\n",
       "<p>200 rows × 3 columns</p>\n",
       "</div>"
      ],
      "text/plain": [
       "     Carbs(g)  Protein(g)  Fat(g)\n",
       "0      550.66      149.50  211.23\n",
       "1      606.00      150.59  482.76\n",
       "2      850.35      644.08  727.49\n",
       "3      346.88      409.59  307.41\n",
       "4      261.65       40.63   88.99\n",
       "..        ...         ...     ...\n",
       "195    679.70      100.53  367.02\n",
       "196   1181.21      385.90  258.08\n",
       "197    575.96       57.29   40.45\n",
       "198    511.62      412.34  923.98\n",
       "199    535.36      219.28  114.20\n",
       "\n",
       "[200 rows x 3 columns]"
      ]
     },
     "execution_count": 7,
     "metadata": {},
     "output_type": "execute_result"
    }
   ],
   "source": [
    "# Getting daily intake macronutrients\n",
    "\n",
    "total_macronutrients_sample_dash = sample_recipes_dash[TotalMacronutrients].to_numpy()[:,None]\n",
    "macronutriens_sample_recipes_dash = sample_recipes_dash[Macronutrients]*total_macronutrients_sample_dash\n",
    "daily_macronutrients_dash = macronutriens_sample_recipes_dash.groupby(macronutriens_sample_recipes_dash.index//5).sum()\n",
    "\n",
    "daily_macronutrients_dash"
   ]
  },
  {
   "cell_type": "code",
   "execution_count": 8,
   "id": "b497f0ad",
   "metadata": {},
   "outputs": [],
   "source": [
    "# Getting proportional macronutrients in each day\n",
    "\n",
    "total_daily_macronutrients_dash = daily_macronutrients_dash.sum(axis=1).to_numpy()[:,None]\n",
    "\n",
    "daily_macronutrients_dash /= total_daily_macronutrients_dash"
   ]
  },
  {
   "cell_type": "markdown",
   "id": "fae54817",
   "metadata": {},
   "source": [
    "## 1.2 Applying the Hypothesis Test"
   ]
  },
  {
   "cell_type": "code",
   "execution_count": 9,
   "id": "0332e063",
   "metadata": {},
   "outputs": [
    {
     "name": "stdout",
     "output_type": "stream",
     "text": [
      "Carbs does follow a normal distribution\n",
      "Carbs is not balanced\n",
      "\n",
      "Protein does follow a normal distribution\n",
      "Protein is not balanced\n",
      "\n",
      "Fat does follow a normal distribution\n",
      "Fat is not balanced\n",
      "\n"
     ]
    }
   ],
   "source": [
    "# Testing significance difference\n",
    "\n",
    "pvalues_z_test = DashBalanceMacronutrients(daily_macronutrients_dash)"
   ]
  },
  {
   "cell_type": "markdown",
   "id": "f725e9b1",
   "metadata": {},
   "source": [
    "# 2. [Keto] Do the recipes have the same macronutrient composition?"
   ]
  },
  {
   "cell_type": "markdown",
   "id": "31ee3239",
   "metadata": {},
   "source": [
    "Assuming that if the recipes tend to have similar macronutrient compositions then they will have the same variability in the values that their macronutrients take (because the means add up to $1$ and by fixing one macronutrient the other two will have equal size ranges of values shifted according to the mean). The latter is equal to having equal variances.\n",
    "\n",
    "Therefore, proving that the recipes have similar compositions requires only that their variances do not differ significantly when comparing the three at the same time. In other words, homoscedasticity in the variances of the three macronutrients must be verified."
   ]
  },
  {
   "cell_type": "markdown",
   "id": "b79c019c",
   "metadata": {},
   "source": [
    "The following set of hypotheses is used to test similarity in compositions:\n",
    "\n",
    "$$H_0 : s^2_C = s^2_P = s^2_F$$\n",
    "$$H_1 : s^2_C \\ne s^2_P \\ne s^2_F$$\n",
    "\n",
    "Where $s^2_M$ represents the variance in macronutrient $M$. Since the distributions are non-normal, the suggestion for testing the homoscedasticity of three or more treatments is to use Levene's Test [[1]](#references) which is robust to non-normal distributions. Levene's test is performed with a significance of $5% and, by definition, with a right tail."
   ]
  },
  {
   "cell_type": "markdown",
   "id": "8c96c37a",
   "metadata": {},
   "source": [
    "Since the variances of the three macronutrients are significantly different at the $95% confidence level, it follows that keto diet recipes do not have or do not follow the same compositions, as defined. Therefore, the recipes have a variability in the compositions, that is, recipes with unique nutritional contributions or sufficiently different from each other can be found.\n",
    "\n",
    "The homoscedasticity test for each macronutrient pair shows that there is a heteroscedasticity in the variances with a confidence level of $95%, which represents a stronger tendency for the nutritional contributions not to be repeated. That is, there are recipes that are composed of different products and foods and that provide different macronutrients."
   ]
  },
  {
   "cell_type": "markdown",
   "id": "823c6405",
   "metadata": {},
   "source": [
    "## 2.1 Getting of Compositions by Macronutrient"
   ]
  },
  {
   "cell_type": "code",
   "execution_count": 10,
   "id": "22eaf084",
   "metadata": {},
   "outputs": [
    {
     "data": {
      "text/plain": [
       "[2796    0.202812\n",
       " 2797    0.082788\n",
       " 2798    0.103195\n",
       " 2799    0.507561\n",
       " 2800    0.415284\n",
       "           ...   \n",
       " 4303    0.199920\n",
       " 4304    0.017468\n",
       " 4305    0.031938\n",
       " 4306    0.236214\n",
       " 4307    0.166648\n",
       " Name: Carbs(g), Length: 1512, dtype: float64,\n",
       " 2796    0.125048\n",
       " 2797    0.474841\n",
       " 2798    0.120306\n",
       " 2799    0.130021\n",
       " 2800    0.253493\n",
       "           ...   \n",
       " 4303    0.134506\n",
       " 4304    0.406934\n",
       " 4305    0.681742\n",
       " 4306    0.372316\n",
       " 4307    0.064661\n",
       " Name: Protein(g), Length: 1512, dtype: float64,\n",
       " 2796    0.672141\n",
       " 2797    0.442371\n",
       " 2798    0.776499\n",
       " 2799    0.362418\n",
       " 2800    0.331224\n",
       "           ...   \n",
       " 4303    0.665574\n",
       " 4304    0.575598\n",
       " 4305    0.286320\n",
       " 4306    0.391470\n",
       " 4307    0.768690\n",
       " Name: Fat(g), Length: 1512, dtype: float64]"
      ]
     },
     "execution_count": 10,
     "metadata": {},
     "output_type": "execute_result"
    }
   ],
   "source": [
    "# Getting data for the testing\n",
    "\n",
    "recipes_keto = Diets_Dataset.query(\"Diet_type == 'keto'\")\n",
    "macronutrients_values_keto = [recipes_keto[macronutrient] for macronutrient in Macronutrients]\n",
    "\n",
    "macronutrients_values_keto"
   ]
  },
  {
   "cell_type": "markdown",
   "id": "1da016cc",
   "metadata": {},
   "source": [
    "## 2.2 Applying the Hypothesis Test"
   ]
  },
  {
   "cell_type": "code",
   "execution_count": 11,
   "id": "ef2b931a",
   "metadata": {},
   "outputs": [
    {
     "name": "stdout",
     "output_type": "stream",
     "text": [
      "There is not same composition\n"
     ]
    }
   ],
   "source": [
    "# Testing homocedasticity\n",
    "\n",
    "homocedasticity_result = KetoHomocedasticity(macronutrients_values_keto)"
   ]
  },
  {
   "cell_type": "code",
   "execution_count": 12,
   "id": "80d1380f",
   "metadata": {},
   "outputs": [
    {
     "name": "stdout",
     "output_type": "stream",
     "text": [
      "Fat & Protein\n",
      "There is not same composition\n",
      "\n",
      "Carbs & Fat\n",
      "There is not same composition\n",
      "\n",
      "Protein & Carbs\n",
      "There is not same composition\n",
      "\n"
     ]
    }
   ],
   "source": [
    "# Testing homocedasticity in pairs\n",
    "\n",
    "for index_macronutrien in range(3):\n",
    "    index_left , index_right = (index_macronutrien-1)%3 , (index_macronutrien+1)%3\n",
    "    print(f'{Macronutrients[index_left][:-3]} & {Macronutrients[index_right][:-3]}')\n",
    "    KetoHomocedasticity([macronutrients_values_keto[index_left],macronutrients_values_keto[index_right]])\n",
    "    print()"
   ]
  },
  {
   "cell_type": "markdown",
   "id": "596f904e",
   "metadata": {},
   "source": [
    "# [Mediterranean] Do recipes from other regions differ from those in the Mediterranean?"
   ]
  },
  {
   "cell_type": "markdown",
   "id": "2dea91f1",
   "metadata": {},
   "source": [
    "# [Paleo] Are the nutritional contributions of the recipes different for each region?"
   ]
  },
  {
   "cell_type": "markdown",
   "id": "3198161c",
   "metadata": {},
   "source": [
    "# [Vegan] Are the macronutrient contributions the same among the different recipes?"
   ]
  },
  {
   "cell_type": "markdown",
   "id": "68463312",
   "metadata": {},
   "source": [
    "# Is there a significant difference in the nutritional contributions of the different diets?"
   ]
  },
  {
   "cell_type": "markdown",
   "id": "214970f6",
   "metadata": {},
   "source": [
    "# References"
   ]
  },
  {
   "cell_type": "markdown",
   "id": "fb45c305",
   "metadata": {},
   "source": [
    "* [1] Levene Test. SciPy. https://docs.scipy.org/doc/scipy/reference/generated/scipy.stats.levene.html#scipy.stats.levene"
   ]
  }
 ],
 "metadata": {
  "kernelspec": {
   "display_name": "Python 3",
   "language": "python",
   "name": "python3"
  },
  "language_info": {
   "codemirror_mode": {
    "name": "ipython",
    "version": 3
   },
   "file_extension": ".py",
   "mimetype": "text/x-python",
   "name": "python",
   "nbconvert_exporter": "python",
   "pygments_lexer": "ipython3",
   "version": "3.12.5"
  }
 },
 "nbformat": 4,
 "nbformat_minor": 5
}
